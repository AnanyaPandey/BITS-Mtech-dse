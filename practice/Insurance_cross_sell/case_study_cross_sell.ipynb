{
 "cells": [
  {
   "cell_type": "code",
   "execution_count": 332,
   "metadata": {},
   "outputs": [],
   "source": [
    "import numpy as np\n",
    "import pandas as pd\n",
    "import matplotlib.pyplot as plt\n",
    "%matplotlib inline"
   ]
  },
  {
   "cell_type": "code",
   "execution_count": 333,
   "metadata": {},
   "outputs": [
    {
     "data": {
      "text/html": [
       "<div>\n",
       "<style scoped>\n",
       "    .dataframe tbody tr th:only-of-type {\n",
       "        vertical-align: middle;\n",
       "    }\n",
       "\n",
       "    .dataframe tbody tr th {\n",
       "        vertical-align: top;\n",
       "    }\n",
       "\n",
       "    .dataframe thead th {\n",
       "        text-align: right;\n",
       "    }\n",
       "</style>\n",
       "<table border=\"1\" class=\"dataframe\">\n",
       "  <thead>\n",
       "    <tr style=\"text-align: right;\">\n",
       "      <th></th>\n",
       "      <th>Ref</th>\n",
       "      <th>Credit_Score</th>\n",
       "      <th>Final_Grade</th>\n",
       "      <th>Term</th>\n",
       "      <th>Net_Advance</th>\n",
       "      <th>APR</th>\n",
       "      <th>Loan_Type</th>\n",
       "      <th>Mosaic</th>\n",
       "      <th>Mosaic_Class</th>\n",
       "      <th>Time_at_Address</th>\n",
       "      <th>...</th>\n",
       "      <th>CIFAS_detected</th>\n",
       "      <th>Time_since_most_recent_outstandi</th>\n",
       "      <th>Insurance_Description</th>\n",
       "      <th>PPI</th>\n",
       "      <th>code</th>\n",
       "      <th>prdt_desc</th>\n",
       "      <th>category</th>\n",
       "      <th>PPI_SINGLE</th>\n",
       "      <th>PPI_JOINT</th>\n",
       "      <th>PPI_LCI</th>\n",
       "    </tr>\n",
       "  </thead>\n",
       "  <tbody>\n",
       "    <tr>\n",
       "      <th>0</th>\n",
       "      <td>1</td>\n",
       "      <td>918</td>\n",
       "      <td>A</td>\n",
       "      <td>36</td>\n",
       "      <td>3000.0</td>\n",
       "      <td>14.4</td>\n",
       "      <td>UnSecured</td>\n",
       "      <td>46</td>\n",
       "      <td>8</td>\n",
       "      <td>132</td>\n",
       "      <td>...</td>\n",
       "      <td>N</td>\n",
       "      <td>16</td>\n",
       "      <td>NaN</td>\n",
       "      <td>0</td>\n",
       "      <td>NaN</td>\n",
       "      <td>NaN</td>\n",
       "      <td>NaN</td>\n",
       "      <td>0</td>\n",
       "      <td>0</td>\n",
       "      <td>0</td>\n",
       "    </tr>\n",
       "    <tr>\n",
       "      <th>1</th>\n",
       "      <td>3</td>\n",
       "      <td>903</td>\n",
       "      <td>A</td>\n",
       "      <td>120</td>\n",
       "      <td>21000.0</td>\n",
       "      <td>7.9</td>\n",
       "      <td>secured</td>\n",
       "      <td>16</td>\n",
       "      <td>3</td>\n",
       "      <td>288</td>\n",
       "      <td>...</td>\n",
       "      <td>N</td>\n",
       "      <td>99</td>\n",
       "      <td>Life &amp; Critical Illn</td>\n",
       "      <td>1</td>\n",
       "      <td>748.0</td>\n",
       "      <td>LIFE &amp; CRITICAL ILLNESS</td>\n",
       "      <td>LCI</td>\n",
       "      <td>0</td>\n",
       "      <td>0</td>\n",
       "      <td>1</td>\n",
       "    </tr>\n",
       "    <tr>\n",
       "      <th>2</th>\n",
       "      <td>4</td>\n",
       "      <td>1060</td>\n",
       "      <td>X</td>\n",
       "      <td>78</td>\n",
       "      <td>7200.0</td>\n",
       "      <td>7.9</td>\n",
       "      <td>secured</td>\n",
       "      <td>17</td>\n",
       "      <td>3</td>\n",
       "      <td>276</td>\n",
       "      <td>...</td>\n",
       "      <td>N</td>\n",
       "      <td>50</td>\n",
       "      <td>Joint</td>\n",
       "      <td>1</td>\n",
       "      <td>719.0</td>\n",
       "      <td>LASCI JOINT</td>\n",
       "      <td>Joint</td>\n",
       "      <td>0</td>\n",
       "      <td>1</td>\n",
       "      <td>0</td>\n",
       "    </tr>\n",
       "    <tr>\n",
       "      <th>3</th>\n",
       "      <td>6</td>\n",
       "      <td>839</td>\n",
       "      <td>B</td>\n",
       "      <td>60</td>\n",
       "      <td>8000.0</td>\n",
       "      <td>16.9</td>\n",
       "      <td>UnSecured</td>\n",
       "      <td>47</td>\n",
       "      <td>8</td>\n",
       "      <td>48</td>\n",
       "      <td>...</td>\n",
       "      <td>N</td>\n",
       "      <td>99</td>\n",
       "      <td>Life &amp; Critical Illn</td>\n",
       "      <td>1</td>\n",
       "      <td>748.0</td>\n",
       "      <td>LIFE &amp; CRITICAL ILLNESS</td>\n",
       "      <td>LCI</td>\n",
       "      <td>0</td>\n",
       "      <td>0</td>\n",
       "      <td>1</td>\n",
       "    </tr>\n",
       "    <tr>\n",
       "      <th>4</th>\n",
       "      <td>7</td>\n",
       "      <td>1057</td>\n",
       "      <td>X</td>\n",
       "      <td>60</td>\n",
       "      <td>7650.0</td>\n",
       "      <td>7.4</td>\n",
       "      <td>UnSecured</td>\n",
       "      <td>55</td>\n",
       "      <td>10</td>\n",
       "      <td>156</td>\n",
       "      <td>...</td>\n",
       "      <td>N</td>\n",
       "      <td>99</td>\n",
       "      <td>Single</td>\n",
       "      <td>1</td>\n",
       "      <td>718.0</td>\n",
       "      <td>LASCI</td>\n",
       "      <td>Single</td>\n",
       "      <td>1</td>\n",
       "      <td>0</td>\n",
       "      <td>0</td>\n",
       "    </tr>\n",
       "  </tbody>\n",
       "</table>\n",
       "<p>5 rows × 59 columns</p>\n",
       "</div>"
      ],
      "text/plain": [
       "   Ref  Credit_Score Final_Grade  Term  Net_Advance   APR  Loan_Type  Mosaic  \\\n",
       "0    1           918           A    36       3000.0  14.4  UnSecured      46   \n",
       "1    3           903           A   120      21000.0   7.9  secured        16   \n",
       "2    4          1060           X    78       7200.0   7.9  secured        17   \n",
       "3    6           839           B    60       8000.0  16.9  UnSecured      47   \n",
       "4    7          1057           X    60       7650.0   7.4  UnSecured      55   \n",
       "\n",
       "   Mosaic_Class  Time_at_Address  ... CIFAS_detected  \\\n",
       "0             8              132  ...              N   \n",
       "1             3              288  ...              N   \n",
       "2             3              276  ...              N   \n",
       "3             8               48  ...              N   \n",
       "4            10              156  ...              N   \n",
       "\n",
       "  Time_since_most_recent_outstandi       Insurance_Description PPI   code  \\\n",
       "0                               16                         NaN   0    NaN   \n",
       "1                               99  Life & Critical Illn         1  748.0   \n",
       "2                               50  Joint                        1  719.0   \n",
       "3                               99  Life & Critical Illn         1  748.0   \n",
       "4                               99  Single                       1  718.0   \n",
       "\n",
       "                 prdt_desc category PPI_SINGLE PPI_JOINT  PPI_LCI  \n",
       "0                      NaN      NaN          0         0        0  \n",
       "1  LIFE & CRITICAL ILLNESS      LCI          0         0        1  \n",
       "2              LASCI JOINT    Joint          0         1        0  \n",
       "3  LIFE & CRITICAL ILLNESS      LCI          0         0        1  \n",
       "4                    LASCI   Single          1         0        0  \n",
       "\n",
       "[5 rows x 59 columns]"
      ]
     },
     "execution_count": 333,
     "metadata": {},
     "output_type": "execute_result"
    }
   ],
   "source": [
    "rawdata = pd.read_excel('Dataset.xls',sheet_name='Data',)\n",
    "rawdata.head()"
   ]
  },
  {
   "cell_type": "code",
   "execution_count": 334,
   "metadata": {},
   "outputs": [
    {
     "data": {
      "text/plain": [
       "Index(['Ref', 'Credit_Score', 'Final_Grade', 'Term', 'Net_Advance', 'APR',\n",
       "       'Loan_Type', 'Mosaic', 'Mosaic_Class', 'Time_at_Address',\n",
       "       'Residential_Status', 'Telephone_Indicator', 'Number_of_Dependants',\n",
       "       'Marital_Status', 'Gender', 'Time_in_Employment', 'Employment_Status',\n",
       "       'Full_Part_Time_Empl_Ind', 'Perm_Temp_Empl_Ind', 'Income_Range',\n",
       "       'Current_Account', 'ACCESS_Card', 'VISA_Card', 'American_Express',\n",
       "       'Diners_Card', 'Cheque_Guarantee', 'Other_Credit_Store_Card',\n",
       "       'Time_with_Bank', 'Value_of_Property', 'Outstanding_Mortgage_Bal',\n",
       "       'Total_Outstanding_Balances', 'Bureau_Data___Monthly_Other_Co_R',\n",
       "       'Worst_History_CT', 'Payment_Method', 'Age',\n",
       "       'Total_outstanding_balance__mortg', 'Total___Public_Info___CCJ____ban',\n",
       "       'Total_value__Public_Info___CCJ__', 'Time_since_most_recent_Public_In',\n",
       "       'Total_value__CAIS_8_9s', 'Worst_status_L6m', 'Worst_CUrrent_Status',\n",
       "       '__of_status_3_s_L6m', 'Searches___Total___L6m', 'Years_on_ER_for_SP',\n",
       "       'Bankruptcy_Detected__SP_', 'Total___outstanding_CCJ_s',\n",
       "       'Total_outstanding_balance___excl', 'Total___of_accounts',\n",
       "       'CIFAS_detected', 'Time_since_most_recent_outstandi',\n",
       "       'Insurance_Description', 'PPI', 'code', 'prdt_desc', 'category',\n",
       "       'PPI_SINGLE', 'PPI_JOINT', 'PPI_LCI'],\n",
       "      dtype='object')"
      ]
     },
     "execution_count": 334,
     "metadata": {},
     "output_type": "execute_result"
    }
   ],
   "source": [
    "rawdata.columns"
   ]
  },
  {
   "cell_type": "code",
   "execution_count": 335,
   "metadata": {},
   "outputs": [],
   "source": [
    "rawdata.rename(columns={'Full_Part_Time_Empl_Ind':'Employment_Type',\n",
    "'Perm_Temp_Empl_Ind':'Permanent_Employee',\n",
    "'Total___Public_Info___CCJ____ban':'Public_info_CCJ_ban',\n",
    "'Total_value__Public_Info___CCJ__':'Public_info_CCJ_value',\n",
    "'Total_value__CAIS_8_9s':'CAIS_8_9_total',\n",
    "'__of_status_3_s_L6m':'Status_3s_L6m',\n",
    "}, inplace=True)"
   ]
  },
  {
   "cell_type": "markdown",
   "metadata": {},
   "source": [
    "### Data Cleaning"
   ]
  },
  {
   "cell_type": "code",
   "execution_count": 336,
   "metadata": {},
   "outputs": [
    {
     "data": {
      "text/plain": [
       "['Final_Grade',\n",
       " 'Residential_Status',\n",
       " 'Marital_Status',\n",
       " 'Employment_Status',\n",
       " 'Payment_Method',\n",
       " 'Bankruptcy_Detected__SP_',\n",
       " 'CIFAS_detected',\n",
       " 'Insurance_Description',\n",
       " 'prdt_desc',\n",
       " 'category']"
      ]
     },
     "execution_count": 336,
     "metadata": {},
     "output_type": "execute_result"
    }
   ],
   "source": [
    "categorical_features =[]\n",
    "for each in rawdata.columns :\n",
    "    if (rawdata[each].dtype == 'object') and (rawdata[each].nunique() > 2):\n",
    "        categorical_features.append(each)\n",
    "categorical_features"
   ]
  },
  {
   "cell_type": "code",
   "execution_count": 337,
   "metadata": {},
   "outputs": [],
   "source": [
    "dictt={'TRUE':1,'TRUE ':1,'TRUE  ':1,'FALSE':0,'FALS':0,'FALSE ':0}\n",
    "rawdata['Current_Account'] = rawdata['Current_Account'].map(dictt)\n",
    "rawdata['ACCESS_Card'] = rawdata['ACCESS_Card'].map(dictt)\n",
    "rawdata['VISA_Card'] = rawdata['VISA_Card'].map(dictt)\n",
    "rawdata['American_Express'] = rawdata['American_Express'].map(dictt)\n",
    "rawdata['Diners_Card'] = rawdata['Diners_Card'].map(dictt)\n",
    "rawdata['Cheque_Guarantee'] = rawdata['Cheque_Guarantee'].map(dictt)\n",
    "rawdata['Other_Credit_Store_Card'] = rawdata['Other_Credit_Store_Card'].map(dictt)\n",
    "\n",
    "rawdata['Loan_Type'].replace({'secured':1,'UnSecured':0},inplace=True)\n",
    "rawdata['Loan_Type'].replace({'secured  ':1,'UnSecured':0},inplace=True)\n",
    "rawdata['Telephone_Indicator'].replace({'Y':1,'N':0},inplace=True)\n",
    "rawdata['Gender'].replace({'M':1,'F':0},inplace=True)\n",
    "rawdata['Employment_Type'].replace({'F':1,'P':0},inplace=True)\n",
    "rawdata['Permanent_Employee'].replace({'P':1,'T':0},inplace=True)"
   ]
  },
  {
   "cell_type": "code",
   "execution_count": 338,
   "metadata": {},
   "outputs": [
    {
     "name": "stdout",
     "output_type": "stream",
     "text": [
      "Unique values for  Final_Grade is : 10\n",
      "Unique values for  Residential_Status is : 4\n",
      "Unique values for  Marital_Status is : 4\n",
      "Unique values for  Employment_Status is : 9\n",
      "Unique values for  Payment_Method is : 3\n",
      "Unique values for  Bankruptcy_Detected__SP_ is : 3\n",
      "Unique values for  CIFAS_detected is : 3\n",
      "Unique values for  Insurance_Description is : 24\n",
      "Unique values for  prdt_desc is : 15\n",
      "Unique values for  category is : 4\n"
     ]
    }
   ],
   "source": [
    "for c in categorical_features:\n",
    "    print('Unique values for ', c, 'is :', rawdata[c].nunique())"
   ]
  },
  {
   "cell_type": "code",
   "execution_count": 339,
   "metadata": {},
   "outputs": [
    {
     "data": {
      "text/html": [
       "<div>\n",
       "<style scoped>\n",
       "    .dataframe tbody tr th:only-of-type {\n",
       "        vertical-align: middle;\n",
       "    }\n",
       "\n",
       "    .dataframe tbody tr th {\n",
       "        vertical-align: top;\n",
       "    }\n",
       "\n",
       "    .dataframe thead th {\n",
       "        text-align: right;\n",
       "    }\n",
       "</style>\n",
       "<table border=\"1\" class=\"dataframe\">\n",
       "  <thead>\n",
       "    <tr style=\"text-align: right;\">\n",
       "      <th></th>\n",
       "      <th>Ref</th>\n",
       "      <th>Credit_Score</th>\n",
       "      <th>Final_Grade</th>\n",
       "      <th>Term</th>\n",
       "      <th>Net_Advance</th>\n",
       "      <th>APR</th>\n",
       "      <th>Loan_Type</th>\n",
       "      <th>Mosaic</th>\n",
       "      <th>Mosaic_Class</th>\n",
       "      <th>Time_at_Address</th>\n",
       "      <th>...</th>\n",
       "      <th>CIFAS_detected</th>\n",
       "      <th>Time_since_most_recent_outstandi</th>\n",
       "      <th>Insurance_Description</th>\n",
       "      <th>PPI</th>\n",
       "      <th>code</th>\n",
       "      <th>prdt_desc</th>\n",
       "      <th>category</th>\n",
       "      <th>PPI_SINGLE</th>\n",
       "      <th>PPI_JOINT</th>\n",
       "      <th>PPI_LCI</th>\n",
       "    </tr>\n",
       "  </thead>\n",
       "  <tbody>\n",
       "    <tr>\n",
       "      <th>1</th>\n",
       "      <td>3</td>\n",
       "      <td>903</td>\n",
       "      <td>A</td>\n",
       "      <td>120</td>\n",
       "      <td>21000.0</td>\n",
       "      <td>7.9</td>\n",
       "      <td>1</td>\n",
       "      <td>16</td>\n",
       "      <td>3</td>\n",
       "      <td>288</td>\n",
       "      <td>...</td>\n",
       "      <td>N</td>\n",
       "      <td>99</td>\n",
       "      <td>Life &amp; Critical Illn</td>\n",
       "      <td>1</td>\n",
       "      <td>748.0</td>\n",
       "      <td>LIFE &amp; CRITICAL ILLNESS</td>\n",
       "      <td>LCI</td>\n",
       "      <td>0</td>\n",
       "      <td>0</td>\n",
       "      <td>1</td>\n",
       "    </tr>\n",
       "    <tr>\n",
       "      <th>2</th>\n",
       "      <td>4</td>\n",
       "      <td>1060</td>\n",
       "      <td>X</td>\n",
       "      <td>78</td>\n",
       "      <td>7200.0</td>\n",
       "      <td>7.9</td>\n",
       "      <td>1</td>\n",
       "      <td>17</td>\n",
       "      <td>3</td>\n",
       "      <td>276</td>\n",
       "      <td>...</td>\n",
       "      <td>N</td>\n",
       "      <td>50</td>\n",
       "      <td>Joint</td>\n",
       "      <td>1</td>\n",
       "      <td>719.0</td>\n",
       "      <td>LASCI JOINT</td>\n",
       "      <td>Joint</td>\n",
       "      <td>0</td>\n",
       "      <td>1</td>\n",
       "      <td>0</td>\n",
       "    </tr>\n",
       "    <tr>\n",
       "      <th>3</th>\n",
       "      <td>6</td>\n",
       "      <td>839</td>\n",
       "      <td>B</td>\n",
       "      <td>60</td>\n",
       "      <td>8000.0</td>\n",
       "      <td>16.9</td>\n",
       "      <td>0</td>\n",
       "      <td>47</td>\n",
       "      <td>8</td>\n",
       "      <td>48</td>\n",
       "      <td>...</td>\n",
       "      <td>N</td>\n",
       "      <td>99</td>\n",
       "      <td>Life &amp; Critical Illn</td>\n",
       "      <td>1</td>\n",
       "      <td>748.0</td>\n",
       "      <td>LIFE &amp; CRITICAL ILLNESS</td>\n",
       "      <td>LCI</td>\n",
       "      <td>0</td>\n",
       "      <td>0</td>\n",
       "      <td>1</td>\n",
       "    </tr>\n",
       "    <tr>\n",
       "      <th>4</th>\n",
       "      <td>7</td>\n",
       "      <td>1057</td>\n",
       "      <td>X</td>\n",
       "      <td>60</td>\n",
       "      <td>7650.0</td>\n",
       "      <td>7.4</td>\n",
       "      <td>0</td>\n",
       "      <td>55</td>\n",
       "      <td>10</td>\n",
       "      <td>156</td>\n",
       "      <td>...</td>\n",
       "      <td>N</td>\n",
       "      <td>99</td>\n",
       "      <td>Single</td>\n",
       "      <td>1</td>\n",
       "      <td>718.0</td>\n",
       "      <td>LASCI</td>\n",
       "      <td>Single</td>\n",
       "      <td>1</td>\n",
       "      <td>0</td>\n",
       "      <td>0</td>\n",
       "    </tr>\n",
       "    <tr>\n",
       "      <th>5</th>\n",
       "      <td>8</td>\n",
       "      <td>913</td>\n",
       "      <td>A</td>\n",
       "      <td>120</td>\n",
       "      <td>33000.0</td>\n",
       "      <td>9.4</td>\n",
       "      <td>1</td>\n",
       "      <td>59</td>\n",
       "      <td>11</td>\n",
       "      <td>18</td>\n",
       "      <td>...</td>\n",
       "      <td>N</td>\n",
       "      <td>99</td>\n",
       "      <td>Single</td>\n",
       "      <td>1</td>\n",
       "      <td>715.0</td>\n",
       "      <td>LASU</td>\n",
       "      <td>Single</td>\n",
       "      <td>1</td>\n",
       "      <td>0</td>\n",
       "      <td>0</td>\n",
       "    </tr>\n",
       "  </tbody>\n",
       "</table>\n",
       "<p>5 rows × 59 columns</p>\n",
       "</div>"
      ],
      "text/plain": [
       "   Ref  Credit_Score Final_Grade  Term  Net_Advance   APR  Loan_Type  Mosaic  \\\n",
       "1    3           903           A   120      21000.0   7.9          1      16   \n",
       "2    4          1060           X    78       7200.0   7.9          1      17   \n",
       "3    6           839           B    60       8000.0  16.9          0      47   \n",
       "4    7          1057           X    60       7650.0   7.4          0      55   \n",
       "5    8           913           A   120      33000.0   9.4          1      59   \n",
       "\n",
       "   Mosaic_Class  Time_at_Address  ... CIFAS_detected  \\\n",
       "1             3              288  ...              N   \n",
       "2             3              276  ...              N   \n",
       "3             8               48  ...              N   \n",
       "4            10              156  ...              N   \n",
       "5            11               18  ...              N   \n",
       "\n",
       "   Time_since_most_recent_outstandi       Insurance_Description PPI   code  \\\n",
       "1                                99  Life & Critical Illn         1  748.0   \n",
       "2                                50  Joint                        1  719.0   \n",
       "3                                99  Life & Critical Illn         1  748.0   \n",
       "4                                99  Single                       1  718.0   \n",
       "5                                99  Single                       1  715.0   \n",
       "\n",
       "                 prdt_desc category  PPI_SINGLE  PPI_JOINT  PPI_LCI  \n",
       "1  LIFE & CRITICAL ILLNESS      LCI           0          0        1  \n",
       "2              LASCI JOINT    Joint           0          1        0  \n",
       "3  LIFE & CRITICAL ILLNESS      LCI           0          0        1  \n",
       "4                    LASCI   Single           1          0        0  \n",
       "5                     LASU   Single           1          0        0  \n",
       "\n",
       "[5 rows x 59 columns]"
      ]
     },
     "execution_count": 339,
     "metadata": {},
     "output_type": "execute_result"
    }
   ],
   "source": [
    "ppi_data = rawdata.loc[rawdata.PPI==1]\n",
    "ppi_data.head()"
   ]
  },
  {
   "cell_type": "code",
   "execution_count": 340,
   "metadata": {},
   "outputs": [
    {
     "data": {
      "text/html": [
       "<div>\n",
       "<style scoped>\n",
       "    .dataframe tbody tr th:only-of-type {\n",
       "        vertical-align: middle;\n",
       "    }\n",
       "\n",
       "    .dataframe tbody tr th {\n",
       "        vertical-align: top;\n",
       "    }\n",
       "\n",
       "    .dataframe thead th {\n",
       "        text-align: right;\n",
       "    }\n",
       "</style>\n",
       "<table border=\"1\" class=\"dataframe\">\n",
       "  <thead>\n",
       "    <tr style=\"text-align: right;\">\n",
       "      <th></th>\n",
       "      <th>Ref</th>\n",
       "      <th>Credit_Score</th>\n",
       "      <th>Term</th>\n",
       "      <th>Net_Advance</th>\n",
       "      <th>APR</th>\n",
       "      <th>Loan_Type</th>\n",
       "      <th>Mosaic</th>\n",
       "      <th>Mosaic_Class</th>\n",
       "      <th>Time_at_Address</th>\n",
       "      <th>Telephone_Indicator</th>\n",
       "      <th>...</th>\n",
       "      <th>Employment_Status_U</th>\n",
       "      <th>Payment_Method_C</th>\n",
       "      <th>Payment_Method_D</th>\n",
       "      <th>Payment_Method_S</th>\n",
       "      <th>Bankruptcy_Detected__SP__N</th>\n",
       "      <th>Bankruptcy_Detected__SP__T</th>\n",
       "      <th>Bankruptcy_Detected__SP__Y</th>\n",
       "      <th>CIFAS_detected_N</th>\n",
       "      <th>CIFAS_detected_T</th>\n",
       "      <th>CIFAS_detected_Y</th>\n",
       "    </tr>\n",
       "  </thead>\n",
       "  <tbody>\n",
       "    <tr>\n",
       "      <th>0</th>\n",
       "      <td>1</td>\n",
       "      <td>918</td>\n",
       "      <td>36</td>\n",
       "      <td>3000.0</td>\n",
       "      <td>14.4</td>\n",
       "      <td>0</td>\n",
       "      <td>46</td>\n",
       "      <td>8</td>\n",
       "      <td>132</td>\n",
       "      <td>1</td>\n",
       "      <td>...</td>\n",
       "      <td>0</td>\n",
       "      <td>0</td>\n",
       "      <td>1</td>\n",
       "      <td>0</td>\n",
       "      <td>1</td>\n",
       "      <td>0</td>\n",
       "      <td>0</td>\n",
       "      <td>1</td>\n",
       "      <td>0</td>\n",
       "      <td>0</td>\n",
       "    </tr>\n",
       "    <tr>\n",
       "      <th>1</th>\n",
       "      <td>3</td>\n",
       "      <td>903</td>\n",
       "      <td>120</td>\n",
       "      <td>21000.0</td>\n",
       "      <td>7.9</td>\n",
       "      <td>1</td>\n",
       "      <td>16</td>\n",
       "      <td>3</td>\n",
       "      <td>288</td>\n",
       "      <td>1</td>\n",
       "      <td>...</td>\n",
       "      <td>0</td>\n",
       "      <td>0</td>\n",
       "      <td>1</td>\n",
       "      <td>0</td>\n",
       "      <td>1</td>\n",
       "      <td>0</td>\n",
       "      <td>0</td>\n",
       "      <td>1</td>\n",
       "      <td>0</td>\n",
       "      <td>0</td>\n",
       "    </tr>\n",
       "    <tr>\n",
       "      <th>2</th>\n",
       "      <td>4</td>\n",
       "      <td>1060</td>\n",
       "      <td>78</td>\n",
       "      <td>7200.0</td>\n",
       "      <td>7.9</td>\n",
       "      <td>1</td>\n",
       "      <td>17</td>\n",
       "      <td>3</td>\n",
       "      <td>276</td>\n",
       "      <td>1</td>\n",
       "      <td>...</td>\n",
       "      <td>0</td>\n",
       "      <td>0</td>\n",
       "      <td>1</td>\n",
       "      <td>0</td>\n",
       "      <td>1</td>\n",
       "      <td>0</td>\n",
       "      <td>0</td>\n",
       "      <td>1</td>\n",
       "      <td>0</td>\n",
       "      <td>0</td>\n",
       "    </tr>\n",
       "    <tr>\n",
       "      <th>3</th>\n",
       "      <td>6</td>\n",
       "      <td>839</td>\n",
       "      <td>60</td>\n",
       "      <td>8000.0</td>\n",
       "      <td>16.9</td>\n",
       "      <td>0</td>\n",
       "      <td>47</td>\n",
       "      <td>8</td>\n",
       "      <td>48</td>\n",
       "      <td>1</td>\n",
       "      <td>...</td>\n",
       "      <td>0</td>\n",
       "      <td>0</td>\n",
       "      <td>1</td>\n",
       "      <td>0</td>\n",
       "      <td>1</td>\n",
       "      <td>0</td>\n",
       "      <td>0</td>\n",
       "      <td>1</td>\n",
       "      <td>0</td>\n",
       "      <td>0</td>\n",
       "    </tr>\n",
       "    <tr>\n",
       "      <th>4</th>\n",
       "      <td>7</td>\n",
       "      <td>1057</td>\n",
       "      <td>60</td>\n",
       "      <td>7650.0</td>\n",
       "      <td>7.4</td>\n",
       "      <td>0</td>\n",
       "      <td>55</td>\n",
       "      <td>10</td>\n",
       "      <td>156</td>\n",
       "      <td>1</td>\n",
       "      <td>...</td>\n",
       "      <td>0</td>\n",
       "      <td>0</td>\n",
       "      <td>1</td>\n",
       "      <td>0</td>\n",
       "      <td>1</td>\n",
       "      <td>0</td>\n",
       "      <td>0</td>\n",
       "      <td>1</td>\n",
       "      <td>0</td>\n",
       "      <td>0</td>\n",
       "    </tr>\n",
       "    <tr>\n",
       "      <th>...</th>\n",
       "      <td>...</td>\n",
       "      <td>...</td>\n",
       "      <td>...</td>\n",
       "      <td>...</td>\n",
       "      <td>...</td>\n",
       "      <td>...</td>\n",
       "      <td>...</td>\n",
       "      <td>...</td>\n",
       "      <td>...</td>\n",
       "      <td>...</td>\n",
       "      <td>...</td>\n",
       "      <td>...</td>\n",
       "      <td>...</td>\n",
       "      <td>...</td>\n",
       "      <td>...</td>\n",
       "      <td>...</td>\n",
       "      <td>...</td>\n",
       "      <td>...</td>\n",
       "      <td>...</td>\n",
       "      <td>...</td>\n",
       "      <td>...</td>\n",
       "    </tr>\n",
       "    <tr>\n",
       "      <th>16378</th>\n",
       "      <td>42067</td>\n",
       "      <td>952</td>\n",
       "      <td>60</td>\n",
       "      <td>5000.0</td>\n",
       "      <td>8.9</td>\n",
       "      <td>0</td>\n",
       "      <td>59</td>\n",
       "      <td>11</td>\n",
       "      <td>193</td>\n",
       "      <td>1</td>\n",
       "      <td>...</td>\n",
       "      <td>0</td>\n",
       "      <td>0</td>\n",
       "      <td>1</td>\n",
       "      <td>0</td>\n",
       "      <td>1</td>\n",
       "      <td>0</td>\n",
       "      <td>0</td>\n",
       "      <td>1</td>\n",
       "      <td>0</td>\n",
       "      <td>0</td>\n",
       "    </tr>\n",
       "    <tr>\n",
       "      <th>16379</th>\n",
       "      <td>42068</td>\n",
       "      <td>922</td>\n",
       "      <td>60</td>\n",
       "      <td>7500.0</td>\n",
       "      <td>7.9</td>\n",
       "      <td>0</td>\n",
       "      <td>55</td>\n",
       "      <td>10</td>\n",
       "      <td>1</td>\n",
       "      <td>1</td>\n",
       "      <td>...</td>\n",
       "      <td>0</td>\n",
       "      <td>0</td>\n",
       "      <td>1</td>\n",
       "      <td>0</td>\n",
       "      <td>1</td>\n",
       "      <td>0</td>\n",
       "      <td>0</td>\n",
       "      <td>1</td>\n",
       "      <td>0</td>\n",
       "      <td>0</td>\n",
       "    </tr>\n",
       "    <tr>\n",
       "      <th>16380</th>\n",
       "      <td>42069</td>\n",
       "      <td>831</td>\n",
       "      <td>60</td>\n",
       "      <td>1000.0</td>\n",
       "      <td>25.9</td>\n",
       "      <td>0</td>\n",
       "      <td>12</td>\n",
       "      <td>2</td>\n",
       "      <td>47</td>\n",
       "      <td>0</td>\n",
       "      <td>...</td>\n",
       "      <td>0</td>\n",
       "      <td>0</td>\n",
       "      <td>1</td>\n",
       "      <td>0</td>\n",
       "      <td>1</td>\n",
       "      <td>0</td>\n",
       "      <td>0</td>\n",
       "      <td>1</td>\n",
       "      <td>0</td>\n",
       "      <td>0</td>\n",
       "    </tr>\n",
       "    <tr>\n",
       "      <th>16381</th>\n",
       "      <td>42070</td>\n",
       "      <td>790</td>\n",
       "      <td>36</td>\n",
       "      <td>3000.0</td>\n",
       "      <td>25.9</td>\n",
       "      <td>0</td>\n",
       "      <td>9</td>\n",
       "      <td>2</td>\n",
       "      <td>130</td>\n",
       "      <td>1</td>\n",
       "      <td>...</td>\n",
       "      <td>0</td>\n",
       "      <td>0</td>\n",
       "      <td>1</td>\n",
       "      <td>0</td>\n",
       "      <td>1</td>\n",
       "      <td>0</td>\n",
       "      <td>0</td>\n",
       "      <td>1</td>\n",
       "      <td>0</td>\n",
       "      <td>0</td>\n",
       "    </tr>\n",
       "    <tr>\n",
       "      <th>16382</th>\n",
       "      <td>42072</td>\n",
       "      <td>905</td>\n",
       "      <td>60</td>\n",
       "      <td>8460.0</td>\n",
       "      <td>7.9</td>\n",
       "      <td>0</td>\n",
       "      <td>44</td>\n",
       "      <td>8</td>\n",
       "      <td>180</td>\n",
       "      <td>1</td>\n",
       "      <td>...</td>\n",
       "      <td>0</td>\n",
       "      <td>0</td>\n",
       "      <td>1</td>\n",
       "      <td>0</td>\n",
       "      <td>1</td>\n",
       "      <td>0</td>\n",
       "      <td>0</td>\n",
       "      <td>1</td>\n",
       "      <td>0</td>\n",
       "      <td>0</td>\n",
       "    </tr>\n",
       "  </tbody>\n",
       "</table>\n",
       "<p>16383 rows × 81 columns</p>\n",
       "</div>"
      ],
      "text/plain": [
       "         Ref  Credit_Score  Term  Net_Advance   APR  Loan_Type  Mosaic  \\\n",
       "0          1           918    36       3000.0  14.4          0      46   \n",
       "1          3           903   120      21000.0   7.9          1      16   \n",
       "2          4          1060    78       7200.0   7.9          1      17   \n",
       "3          6           839    60       8000.0  16.9          0      47   \n",
       "4          7          1057    60       7650.0   7.4          0      55   \n",
       "...      ...           ...   ...          ...   ...        ...     ...   \n",
       "16378  42067           952    60       5000.0   8.9          0      59   \n",
       "16379  42068           922    60       7500.0   7.9          0      55   \n",
       "16380  42069           831    60       1000.0  25.9          0      12   \n",
       "16381  42070           790    36       3000.0  25.9          0       9   \n",
       "16382  42072           905    60       8460.0   7.9          0      44   \n",
       "\n",
       "       Mosaic_Class  Time_at_Address  Telephone_Indicator  ...  \\\n",
       "0                 8              132                    1  ...   \n",
       "1                 3              288                    1  ...   \n",
       "2                 3              276                    1  ...   \n",
       "3                 8               48                    1  ...   \n",
       "4                10              156                    1  ...   \n",
       "...             ...              ...                  ...  ...   \n",
       "16378            11              193                    1  ...   \n",
       "16379            10                1                    1  ...   \n",
       "16380             2               47                    0  ...   \n",
       "16381             2              130                    1  ...   \n",
       "16382             8              180                    1  ...   \n",
       "\n",
       "       Employment_Status_U  Payment_Method_C  Payment_Method_D  \\\n",
       "0                        0                 0                 1   \n",
       "1                        0                 0                 1   \n",
       "2                        0                 0                 1   \n",
       "3                        0                 0                 1   \n",
       "4                        0                 0                 1   \n",
       "...                    ...               ...               ...   \n",
       "16378                    0                 0                 1   \n",
       "16379                    0                 0                 1   \n",
       "16380                    0                 0                 1   \n",
       "16381                    0                 0                 1   \n",
       "16382                    0                 0                 1   \n",
       "\n",
       "       Payment_Method_S  Bankruptcy_Detected__SP__N  \\\n",
       "0                     0                           1   \n",
       "1                     0                           1   \n",
       "2                     0                           1   \n",
       "3                     0                           1   \n",
       "4                     0                           1   \n",
       "...                 ...                         ...   \n",
       "16378                 0                           1   \n",
       "16379                 0                           1   \n",
       "16380                 0                           1   \n",
       "16381                 0                           1   \n",
       "16382                 0                           1   \n",
       "\n",
       "       Bankruptcy_Detected__SP__T  Bankruptcy_Detected__SP__Y  \\\n",
       "0                               0                           0   \n",
       "1                               0                           0   \n",
       "2                               0                           0   \n",
       "3                               0                           0   \n",
       "4                               0                           0   \n",
       "...                           ...                         ...   \n",
       "16378                           0                           0   \n",
       "16379                           0                           0   \n",
       "16380                           0                           0   \n",
       "16381                           0                           0   \n",
       "16382                           0                           0   \n",
       "\n",
       "       CIFAS_detected_N  CIFAS_detected_T  CIFAS_detected_Y  \n",
       "0                     1                 0                 0  \n",
       "1                     1                 0                 0  \n",
       "2                     1                 0                 0  \n",
       "3                     1                 0                 0  \n",
       "4                     1                 0                 0  \n",
       "...                 ...               ...               ...  \n",
       "16378                 1                 0                 0  \n",
       "16379                 1                 0                 0  \n",
       "16380                 1                 0                 0  \n",
       "16381                 1                 0                 0  \n",
       "16382                 1                 0                 0  \n",
       "\n",
       "[16383 rows x 81 columns]"
      ]
     },
     "execution_count": 340,
     "metadata": {},
     "output_type": "execute_result"
    }
   ],
   "source": [
    "loancustomers = rawdata.iloc[:,:53]\n",
    "loancustomers.drop(['Insurance_Description'],inplace=True,axis=1)\n",
    "encoded_data = pd.get_dummies(loancustomers,columns=categorical_features[:-3])\n",
    "encoded_data"
   ]
  },
  {
   "cell_type": "markdown",
   "metadata": {},
   "source": [
    "### Handling the inconsistencies.\n",
    "\n",
    "* Age -ve \n",
    "* Time_since_most_recent_outstandi -1 \n",
    "* Some variables have '99'\n"
   ]
  },
  {
   "cell_type": "code",
   "execution_count": 341,
   "metadata": {},
   "outputs": [
    {
     "data": {
      "text/plain": [
       "11421    18\n",
       "7648     19\n",
       "7278     19\n",
       "3820     19\n",
       "10141    19\n",
       "         ..\n",
       "13336    75\n",
       "14395    75\n",
       "5100     76\n",
       "5233     76\n",
       "4041     77\n",
       "Name: Age, Length: 16383, dtype: int64"
      ]
     },
     "execution_count": 341,
     "metadata": {},
     "output_type": "execute_result"
    }
   ],
   "source": [
    "encoded_data['Age'] = encoded_data['Age'].apply(lambda x : x if x > 0 else -1*x)\n",
    "encoded_data['Age'].sort_values()"
   ]
  },
  {
   "cell_type": "markdown",
   "metadata": {},
   "source": [
    "### Splitting into Train and Test"
   ]
  },
  {
   "cell_type": "code",
   "execution_count": 342,
   "metadata": {},
   "outputs": [
    {
     "data": {
      "text/plain": [
       "(10976, 79)"
      ]
     },
     "execution_count": 342,
     "metadata": {},
     "output_type": "execute_result"
    }
   ],
   "source": [
    "from sklearn.model_selection import train_test_split\n",
    "y = encoded_data['PPI']\n",
    "X = encoded_data.drop(['Ref','PPI'],axis=1)\n",
    "X_train,X_test,y_train,y_test = train_test_split(X,y,test_size=0.33)\n",
    "X_train.shape"
   ]
  },
  {
   "cell_type": "code",
   "execution_count": 343,
   "metadata": {},
   "outputs": [],
   "source": [
    "from sklearn.ensemble import RandomForestClassifier\n",
    "from sklearn.metrics import classification_report\n",
    "from sklearn.metrics import accuracy_score\n",
    "from sklearn.metrics import confusion_matrix\n",
    "rf = RandomForestClassifier(bootstrap=True, class_weight=None, criterion='gini',\n",
    "            max_depth=None, max_features='auto', max_leaf_nodes=None,\n",
    "            min_impurity_decrease=0.0, min_impurity_split=None,\n",
    "            min_samples_leaf=1, min_samples_split=2,\n",
    "            min_weight_fraction_leaf=0.0, n_estimators=100, n_jobs=1,\n",
    "            oob_score=False, random_state=None, verbose=0,\n",
    "            warm_start=False)\n",
    "            \n",
    "rf.fit(X_train,y_train)\n",
    "y_pred = rf.predict(X_test)\n",
    "accuracy = np.sum(y_pred == y_test)"
   ]
  },
  {
   "cell_type": "code",
   "execution_count": 344,
   "metadata": {},
   "outputs": [
    {
     "name": "stdout",
     "output_type": "stream",
     "text": [
      "Accuracy: 0.6619197336785648\n"
     ]
    }
   ],
   "source": [
    "print(\"Accuracy:\",accuracy_score(y_test, y_pred))"
   ]
  },
  {
   "cell_type": "code",
   "execution_count": 345,
   "metadata": {},
   "outputs": [
    {
     "name": "stdout",
     "output_type": "stream",
     "text": [
      "[[1113 1160]\n",
      " [ 668 2466]]\n"
     ]
    }
   ],
   "source": [
    "print(confusion_matrix(y_test,y_pred))"
   ]
  },
  {
   "cell_type": "markdown",
   "metadata": {},
   "source": [
    "### Things to Try \n",
    "\n",
    "* Cross Validation\n",
    "* XGBoost /AdaBoost"
   ]
  },
  {
   "cell_type": "markdown",
   "metadata": {},
   "source": [
    "### Which Category of PPI should we pitch to the customers"
   ]
  },
  {
   "cell_type": "code",
   "execution_count": 346,
   "metadata": {},
   "outputs": [
    {
     "name": "stdout",
     "output_type": "stream",
     "text": [
      "Requirement already satisfied: xgboost in c:\\users\\pandey\\appdata\\local\\programs\\python\\python37\\lib\\site-packages (1.6.1)\n",
      "Requirement already satisfied: scipy in c:\\users\\pandey\\appdata\\local\\programs\\python\\python37\\lib\\site-packages (from xgboost) (1.4.1)\n",
      "Requirement already satisfied: numpy in c:\\users\\pandey\\appdata\\local\\programs\\python\\python37\\lib\\site-packages (from xgboost) (1.18.2)\n"
     ]
    },
    {
     "name": "stderr",
     "output_type": "stream",
     "text": [
      "WARNING: You are using pip version 22.0.4; however, version 22.1.1 is available.\n",
      "You should consider upgrading via the 'C:\\Users\\pandey\\AppData\\Local\\Programs\\Python\\Python37\\python.exe -m pip install --upgrade pip' command.\n"
     ]
    }
   ],
   "source": [
    "! pip install xgboost"
   ]
  },
  {
   "cell_type": "code",
   "execution_count": 347,
   "metadata": {},
   "outputs": [],
   "source": [
    "from xgboost import XGBClassifier\n",
    "from sklearn.metrics import confusion_matrix\n",
    "from sklearn.model_selection import cross_val_score, KFold"
   ]
  },
  {
   "cell_type": "code",
   "execution_count": 348,
   "metadata": {},
   "outputs": [
    {
     "name": "stdout",
     "output_type": "stream",
     "text": [
      "XGBClassifier(base_score=None, booster=None, callbacks=None,\n",
      "              colsample_bylevel=None, colsample_bynode=None,\n",
      "              colsample_bytree=None, early_stopping_rounds=None,\n",
      "              enable_categorical=False, eval_metric=None, gamma=None,\n",
      "              gpu_id=None, grow_policy=None, importance_type=None,\n",
      "              interaction_constraints=None, learning_rate=None, max_bin=None,\n",
      "              max_cat_to_onehot=None, max_delta_step=None, max_depth=None,\n",
      "              max_leaves=None, min_child_weight=None, missing=nan,\n",
      "              monotone_constraints=None, n_estimators=100, n_jobs=None,\n",
      "              num_parallel_tree=None, predictor=None, random_state=None,\n",
      "              reg_alpha=None, reg_lambda=None, ...)\n"
     ]
    },
    {
     "data": {
      "text/plain": [
       "XGBClassifier(base_score=0.5, booster='gbtree', callbacks=None,\n",
       "              colsample_bylevel=1, colsample_bynode=1, colsample_bytree=1,\n",
       "              early_stopping_rounds=None, enable_categorical=False,\n",
       "              eval_metric=None, gamma=0, gpu_id=None, grow_policy=None,\n",
       "              importance_type=None, interaction_constraints=None,\n",
       "              learning_rate=0.1, max_bin=None, max_cat_to_onehot=None,\n",
       "              max_delta_step=0, max_depth=3, max_leaves=None,\n",
       "              min_child_weight=1, missing=None, monotone_constraints=None,\n",
       "              n_estimators=100, n_jobs=1, nthread=None, num_parallel_tree=None,\n",
       "              objective='multi:softprob', predictor=None, random_state=0, ...)"
      ]
     },
     "execution_count": 348,
     "metadata": {},
     "output_type": "execute_result"
    }
   ],
   "source": [
    "xgbc = XGBClassifier()\n",
    "XGBClassifier(base_score=0.5, booster='gbtree', colsample_bylevel=1,\n",
    "       colsample_bynode=1, colsample_bytree=1, gamma=0, learning_rate=0.1,\n",
    "       max_delta_step=0, max_depth=3, min_child_weight=1, missing=None,\n",
    "       n_estimators=100, n_jobs=1, nthread=None,\n",
    "       objective='multi:softprob', random_state=0, reg_alpha=0,\n",
    "       reg_lambda=1, scale_pos_weight=1, seed=None, silent=None,\n",
    "       subsample=1, verbosity=1) \n"
   ]
  },
  {
   "cell_type": "code",
   "execution_count": 349,
   "metadata": {},
   "outputs": [
    {
     "name": "stdout",
     "output_type": "stream",
     "text": [
      "Mean cross-validation score: 0.66\n"
     ]
    }
   ],
   "source": [
    "xgbc.fit(X_train, y_train)\n",
    "scores = cross_val_score(xgbc, X_train, y_train, cv=5)\n",
    "print(\"Mean cross-validation score: %.2f\" % scores.mean())"
   ]
  },
  {
   "cell_type": "code",
   "execution_count": 350,
   "metadata": {},
   "outputs": [
    {
     "name": "stdout",
     "output_type": "stream",
     "text": [
      "K-fold CV average score: 0.67\n"
     ]
    }
   ],
   "source": [
    "kfold = KFold(n_splits=10, shuffle=True)\n",
    "kf_cv_scores = cross_val_score(xgbc, X_train, y_train, cv=kfold )\n",
    "print(\"K-fold CV average score: %.2f\" % kf_cv_scores.mean())\n"
   ]
  },
  {
   "cell_type": "code",
   "execution_count": 351,
   "metadata": {},
   "outputs": [
    {
     "name": "stdout",
     "output_type": "stream",
     "text": [
      "[[1200 1073]\n",
      " [ 754 2380]]\n"
     ]
    }
   ],
   "source": [
    "ypred = xgbc.predict(X_test)\n",
    "cm = confusion_matrix(y_test,ypred)\n",
    "print(cm)"
   ]
  },
  {
   "cell_type": "code",
   "execution_count": 352,
   "metadata": {},
   "outputs": [
    {
     "name": "stdout",
     "output_type": "stream",
     "text": [
      "code 56\n",
      "prdt_desc 116\n"
     ]
    }
   ],
   "source": [
    "for each in ppi_data.columns:\n",
    "    if np.sum(ppi_data[each].isnull()) > 0 :\n",
    "        print(each,np.sum(ppi_data[each].isnull()))"
   ]
  },
  {
   "cell_type": "markdown",
   "metadata": {},
   "source": [
    "### MultiClass Classification for Identifying Isurance category"
   ]
  },
  {
   "cell_type": "code",
   "execution_count": 353,
   "metadata": {},
   "outputs": [
    {
     "name": "stdout",
     "output_type": "stream",
     "text": [
      "Final_Grade\n",
      "Residential_Status\n",
      "Marital_Status\n",
      "Employment_Status\n",
      "Payment_Method\n",
      "Bankruptcy_Detected__SP_\n",
      "CIFAS_detected\n",
      "Insurance_Description\n",
      "prdt_desc\n",
      "category\n"
     ]
    }
   ],
   "source": [
    "for each in ppi_data.columns:\n",
    "    if ppi_data[each].dtype == 'object':\n",
    "        print(each)"
   ]
  },
  {
   "cell_type": "code",
   "execution_count": 354,
   "metadata": {},
   "outputs": [
    {
     "name": "stderr",
     "output_type": "stream",
     "text": [
      "c:\\Users\\pandey\\AppData\\Local\\Programs\\Python\\Python37\\lib\\site-packages\\pandas\\core\\generic.py:6619: SettingWithCopyWarning: \n",
      "A value is trying to be set on a copy of a slice from a DataFrame\n",
      "\n",
      "See the caveats in the documentation: https://pandas.pydata.org/pandas-docs/stable/user_guide/indexing.html#returning-a-view-versus-a-copy\n",
      "  return self._update_inplace(result)\n"
     ]
    }
   ],
   "source": [
    "ppi_data['category'].replace({'Joint':'JOINT','Single':'SINGLE'},inplace=True)\n"
   ]
  },
  {
   "cell_type": "code",
   "execution_count": 355,
   "metadata": {},
   "outputs": [
    {
     "name": "stderr",
     "output_type": "stream",
     "text": [
      "c:\\Users\\pandey\\AppData\\Local\\Programs\\Python\\Python37\\lib\\site-packages\\pandas\\core\\generic.py:5516: SettingWithCopyWarning: \n",
      "A value is trying to be set on a copy of a slice from a DataFrame.\n",
      "Try using .loc[row_indexer,col_indexer] = value instead\n",
      "\n",
      "See the caveats in the documentation: https://pandas.pydata.org/pandas-docs/stable/user_guide/indexing.html#returning-a-view-versus-a-copy\n",
      "  self[name] = value\n"
     ]
    },
    {
     "name": "stdout",
     "output_type": "stream",
     "text": [
      "1    0\n",
      "2    1\n",
      "3    0\n",
      "4    2\n",
      "5    2\n",
      "Name: category, dtype: int64\n",
      "Index(['LCI', 'JOINT', 'SINGLE'], dtype='object')\n"
     ]
    }
   ],
   "source": [
    "factor = pd.factorize(ppi_data['category'])\n",
    "ppi_data.category = factor[0]\n",
    "definitions = factor[1]\n",
    "print(ppi_data.category.head())\n",
    "print(definitions)"
   ]
  },
  {
   "cell_type": "code",
   "execution_count": 356,
   "metadata": {},
   "outputs": [],
   "source": [
    "ppi_y = ppi_data['category']\n",
    "ppi_X = ppi_data.drop(['Ref','PPI','Insurance_Description','code','prdt_desc','PPI_SINGLE','PPI_JOINT','PPI_LCI'],axis=1)"
   ]
  },
  {
   "cell_type": "code",
   "execution_count": 357,
   "metadata": {},
   "outputs": [],
   "source": [
    "ppi_X = pd.get_dummies(ppi_X)\n",
    "pX_train, pX_test, py_train, py_test = train_test_split(ppi_X, ppi_y, test_size = 0.40)"
   ]
  },
  {
   "cell_type": "code",
   "execution_count": 358,
   "metadata": {},
   "outputs": [],
   "source": [
    "from sklearn.preprocessing import StandardScaler\n",
    "scaler = StandardScaler()\n",
    "pX_train = scaler.fit_transform(pX_train)\n",
    "pX_test = scaler.transform(pX_test)"
   ]
  },
  {
   "cell_type": "code",
   "execution_count": 359,
   "metadata": {},
   "outputs": [
    {
     "data": {
      "text/plain": [
       "RandomForestClassifier(n_jobs=1)"
      ]
     },
     "execution_count": 359,
     "metadata": {},
     "output_type": "execute_result"
    }
   ],
   "source": [
    "mrf = RandomForestClassifier(bootstrap=True, class_weight=None, criterion='gini',\n",
    "            max_depth=None, max_features='auto', max_leaf_nodes=None,\n",
    "            min_impurity_decrease=0.0, min_impurity_split=None,\n",
    "            min_samples_leaf=1, min_samples_split=2,\n",
    "            min_weight_fraction_leaf=0.0, n_estimators=100, n_jobs=1,\n",
    "            oob_score=False, random_state=None, verbose=0,\n",
    "            warm_start=False)\n",
    "mrf.fit(pX_train,py_train)"
   ]
  },
  {
   "cell_type": "code",
   "execution_count": 360,
   "metadata": {},
   "outputs": [
    {
     "name": "stdout",
     "output_type": "stream",
     "text": [
      "Predicted  JOINT  LCI  SINGLE\n",
      "Actual                       \n",
      "JOINT        492   12       0\n",
      "LCI            0  759       0\n",
      "SINGLE         0    0    2522\n"
     ]
    }
   ],
   "source": [
    "y_pred = mrf.predict(pX_test)\n",
    "reversefactor = dict(zip(range(3),definitions))\n",
    "py_test = np.vectorize(reversefactor.get)(py_test)\n",
    "y_pred = np.vectorize(reversefactor.get)(y_pred)\n",
    "print(pd.crosstab(py_test, y_pred, rownames=['Actual'], colnames=['Predicted']))"
   ]
  },
  {
   "cell_type": "code",
   "execution_count": 361,
   "metadata": {},
   "outputs": [
    {
     "name": "stdout",
     "output_type": "stream",
     "text": [
      "Accuracy of the model 0.9968295904887715 %\n"
     ]
    }
   ],
   "source": [
    "print(f\"Accuracy of the model {accuracy_score(py_test,y_pred)} %\")"
   ]
  },
  {
   "cell_type": "code",
   "execution_count": null,
   "metadata": {},
   "outputs": [],
   "source": []
  }
 ],
 "metadata": {
  "interpreter": {
   "hash": "d9e55bdb82f1abc79812c7fee60ba35a246c851198f59d02997fbe94cbdcd587"
  },
  "kernelspec": {
   "display_name": "Python 3.7.7 64-bit",
   "language": "python",
   "name": "python3"
  },
  "language_info": {
   "codemirror_mode": {
    "name": "ipython",
    "version": 3
   },
   "file_extension": ".py",
   "mimetype": "text/x-python",
   "name": "python",
   "nbconvert_exporter": "python",
   "pygments_lexer": "ipython3",
   "version": "3.7.7"
  },
  "orig_nbformat": 4
 },
 "nbformat": 4,
 "nbformat_minor": 2
}
